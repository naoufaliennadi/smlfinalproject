{
 "cells": [
  {
   "cell_type": "markdown",
   "metadata": {},
   "source": [
    "# Subsurface Machine Learning Final Project: Well Log Classification\n",
    "\n",
    "The objective of this project is to build two machine learning models:\n",
    "- a Decision Tree Classifier (discussed in class)\n",
    "- a Random Forest Classifier (a new model)\n",
    "\n",
    "and to compare their effectiveness.\n",
    "\n",
    "These two models will be trained/tested on facies logs from nine wells in the Panoma field located in Southwest Kansas.  \n",
    "[Here](https://www.kgs.ku.edu/PRS/publication/2003/ofr2003-50.pdf) is a link to the study for which the data was collected  \n",
    "[Here](https://www.kaggle.com/datasets/imeintanis/well-log-facies-dataset) is a link to the kaggle post of this dataset  "
   ]
  },
  {
   "cell_type": "markdown",
   "metadata": {},
   "source": [
    "# Imports  \n",
    "Here are the imports for this notebook"
   ]
  },
  {
   "cell_type": "code",
   "execution_count": 307,
   "metadata": {},
   "outputs": [],
   "source": [
    "import pandas as pd # to read the dataset\n",
    "import numpy as np # general use\n",
    "import matplotlib.pyplot as plt # for visualization\n",
    "from matplotlib.colors import ListedColormap, BoundaryNorm # visualization\n",
    "import seaborn as sns # also for visualizations\n",
    "from sklearn.ensemble import RandomForestClassifier # random forest \n",
    "from sklearn.tree import DecisionTreeClassifier # decision tree\n",
    "from sklearn.metrics import classification_report # to measure the effectiveness of the models\n",
    "from sklearn.model_selection import GridSearchCV, train_test_split # hyperparameter tuning/test train split\n",
    "import ipywidgets as widgets # to make interactive visualizations"
   ]
  },
  {
   "cell_type": "markdown",
   "metadata": {},
   "source": [
    "# Data Analysis"
   ]
  },
  {
   "cell_type": "markdown",
   "metadata": {},
   "source": [
    "Here I read the dataset from the github repository for this project"
   ]
  },
  {
   "cell_type": "code",
   "execution_count": 308,
   "metadata": {},
   "outputs": [
    {
     "data": {
      "text/html": [
       "<div>\n",
       "<style scoped>\n",
       "    .dataframe tbody tr th:only-of-type {\n",
       "        vertical-align: middle;\n",
       "    }\n",
       "\n",
       "    .dataframe tbody tr th {\n",
       "        vertical-align: top;\n",
       "    }\n",
       "\n",
       "    .dataframe thead th {\n",
       "        text-align: right;\n",
       "    }\n",
       "</style>\n",
       "<table border=\"1\" class=\"dataframe\">\n",
       "  <thead>\n",
       "    <tr style=\"text-align: right;\">\n",
       "      <th></th>\n",
       "      <th>Facies</th>\n",
       "      <th>Formation</th>\n",
       "      <th>Well Name</th>\n",
       "      <th>Depth</th>\n",
       "      <th>GR</th>\n",
       "      <th>ILD_log10</th>\n",
       "      <th>DeltaPHI</th>\n",
       "      <th>PHIND</th>\n",
       "      <th>PE</th>\n",
       "      <th>NM_M</th>\n",
       "      <th>RELPOS</th>\n",
       "    </tr>\n",
       "  </thead>\n",
       "  <tbody>\n",
       "    <tr>\n",
       "      <th>0</th>\n",
       "      <td>3</td>\n",
       "      <td>A1 SH</td>\n",
       "      <td>SHRIMPLIN</td>\n",
       "      <td>2793.0</td>\n",
       "      <td>77.45</td>\n",
       "      <td>0.664</td>\n",
       "      <td>9.9</td>\n",
       "      <td>11.915</td>\n",
       "      <td>4.6</td>\n",
       "      <td>1</td>\n",
       "      <td>1.000</td>\n",
       "    </tr>\n",
       "    <tr>\n",
       "      <th>1</th>\n",
       "      <td>3</td>\n",
       "      <td>A1 SH</td>\n",
       "      <td>SHRIMPLIN</td>\n",
       "      <td>2793.5</td>\n",
       "      <td>78.26</td>\n",
       "      <td>0.661</td>\n",
       "      <td>14.2</td>\n",
       "      <td>12.565</td>\n",
       "      <td>4.1</td>\n",
       "      <td>1</td>\n",
       "      <td>0.979</td>\n",
       "    </tr>\n",
       "    <tr>\n",
       "      <th>2</th>\n",
       "      <td>3</td>\n",
       "      <td>A1 SH</td>\n",
       "      <td>SHRIMPLIN</td>\n",
       "      <td>2794.0</td>\n",
       "      <td>79.05</td>\n",
       "      <td>0.658</td>\n",
       "      <td>14.8</td>\n",
       "      <td>13.050</td>\n",
       "      <td>3.6</td>\n",
       "      <td>1</td>\n",
       "      <td>0.957</td>\n",
       "    </tr>\n",
       "    <tr>\n",
       "      <th>3</th>\n",
       "      <td>3</td>\n",
       "      <td>A1 SH</td>\n",
       "      <td>SHRIMPLIN</td>\n",
       "      <td>2794.5</td>\n",
       "      <td>86.10</td>\n",
       "      <td>0.655</td>\n",
       "      <td>13.9</td>\n",
       "      <td>13.115</td>\n",
       "      <td>3.5</td>\n",
       "      <td>1</td>\n",
       "      <td>0.936</td>\n",
       "    </tr>\n",
       "    <tr>\n",
       "      <th>4</th>\n",
       "      <td>3</td>\n",
       "      <td>A1 SH</td>\n",
       "      <td>SHRIMPLIN</td>\n",
       "      <td>2795.0</td>\n",
       "      <td>74.58</td>\n",
       "      <td>0.647</td>\n",
       "      <td>13.5</td>\n",
       "      <td>13.300</td>\n",
       "      <td>3.4</td>\n",
       "      <td>1</td>\n",
       "      <td>0.915</td>\n",
       "    </tr>\n",
       "  </tbody>\n",
       "</table>\n",
       "</div>"
      ],
      "text/plain": [
       "   Facies Formation  Well Name   Depth     GR  ILD_log10  DeltaPHI   PHIND  \\\n",
       "0       3     A1 SH  SHRIMPLIN  2793.0  77.45      0.664       9.9  11.915   \n",
       "1       3     A1 SH  SHRIMPLIN  2793.5  78.26      0.661      14.2  12.565   \n",
       "2       3     A1 SH  SHRIMPLIN  2794.0  79.05      0.658      14.8  13.050   \n",
       "3       3     A1 SH  SHRIMPLIN  2794.5  86.10      0.655      13.9  13.115   \n",
       "4       3     A1 SH  SHRIMPLIN  2795.0  74.58      0.647      13.5  13.300   \n",
       "\n",
       "    PE  NM_M  RELPOS  \n",
       "0  4.6     1   1.000  \n",
       "1  4.1     1   0.979  \n",
       "2  3.6     1   0.957  \n",
       "3  3.5     1   0.936  \n",
       "4  3.4     1   0.915  "
      ]
     },
     "execution_count": 308,
     "metadata": {},
     "output_type": "execute_result"
    }
   ],
   "source": [
    "df = pd.read_csv(\"https://raw.githubusercontent.com/naoufaliennadi/smlfinalproject/refs/heads/main/facies_data.csv\")\n",
    "df.head()"
   ]
  },
  {
   "cell_type": "markdown",
   "metadata": {},
   "source": [
    "**Here are the descriptions given in the kaggle post:**\n",
    "\n",
    "The seven variables are:\n",
    "\n",
    "- GR: this wireline logging tools measure gamma emission\n",
    "- ILD_log10: this is resistivity measurement\n",
    "- PE: photoelectric effect log\n",
    "- DeltaPHI: Phi is a porosity index in petrophysics.\n",
    "- PNHIND: Average of neutron and density log.\n",
    "- NM_M: nonmarine-marine indicator\n",
    "- RELPOS: relative position\n",
    "\n",
    "The nine discrete facies (classes of rocks) are:\n",
    "\n",
    "- SS: Nonmarine sandstone\n",
    "- CSiS: Nonmarine coarse siltstone\n",
    "- FSiS: Nonmarine fine siltstone\n",
    "- SiSH: Marine siltstone and shale\n",
    "- MS: Mudstone (limestone)\n",
    "- WS: Wackestone (limestone)\n",
    "- D: Dolomite\n",
    "- PS: Packstone-grainstone (limestone)\n",
    "- BS: Phylloid-algal bafflestone (limestone)\n",
    "\n",
    "**Here is what I'm assuming:**\n",
    "\n",
    "The Facies variable corresponds to the facie, for example 3 would be FSiS  \n",
    "The Well Name/Formation Variables contain the given name of the wells/formations the wells are from  \n",
    "Depth is just the measured depth of each log measurement, and for each well, the RELPOS would equal 1 at shallowest depth and decrease from there"
   ]
  },
  {
   "cell_type": "markdown",
   "metadata": {},
   "source": [
    "**Data Quality**"
   ]
  },
  {
   "cell_type": "code",
   "execution_count": 309,
   "metadata": {},
   "outputs": [
    {
     "name": "stdout",
     "output_type": "stream",
     "text": [
      "Facies : 3232\n",
      "Formation : 3232\n",
      "Well Name : 3232\n",
      "Depth : 3232\n",
      "GR : 3232\n",
      "ILD_log10 : 3232\n",
      "DeltaPHI : 3232\n",
      "PHIND : 3232\n",
      "PE : 3232\n",
      "NM_M : 3232\n",
      "RELPOS : 3232\n"
     ]
    },
    {
     "data": {
      "text/html": [
       "<div>\n",
       "<style scoped>\n",
       "    .dataframe tbody tr th:only-of-type {\n",
       "        vertical-align: middle;\n",
       "    }\n",
       "\n",
       "    .dataframe tbody tr th {\n",
       "        vertical-align: top;\n",
       "    }\n",
       "\n",
       "    .dataframe thead th {\n",
       "        text-align: right;\n",
       "    }\n",
       "</style>\n",
       "<table border=\"1\" class=\"dataframe\">\n",
       "  <thead>\n",
       "    <tr style=\"text-align: right;\">\n",
       "      <th></th>\n",
       "      <th>count</th>\n",
       "      <th>mean</th>\n",
       "      <th>std</th>\n",
       "      <th>min</th>\n",
       "      <th>25%</th>\n",
       "      <th>50%</th>\n",
       "      <th>75%</th>\n",
       "      <th>max</th>\n",
       "    </tr>\n",
       "  </thead>\n",
       "  <tbody>\n",
       "    <tr>\n",
       "      <th>Facies</th>\n",
       "      <td>3232.0</td>\n",
       "      <td>4.422030</td>\n",
       "      <td>2.504243</td>\n",
       "      <td>1.000000</td>\n",
       "      <td>2.00000</td>\n",
       "      <td>4.000000</td>\n",
       "      <td>6.000000</td>\n",
       "      <td>9.000</td>\n",
       "    </tr>\n",
       "    <tr>\n",
       "      <th>Depth</th>\n",
       "      <td>3232.0</td>\n",
       "      <td>2875.824567</td>\n",
       "      <td>131.006274</td>\n",
       "      <td>2573.500000</td>\n",
       "      <td>2791.00000</td>\n",
       "      <td>2893.500000</td>\n",
       "      <td>2980.000000</td>\n",
       "      <td>3122.500</td>\n",
       "    </tr>\n",
       "    <tr>\n",
       "      <th>GR</th>\n",
       "      <td>3232.0</td>\n",
       "      <td>66.135769</td>\n",
       "      <td>30.854826</td>\n",
       "      <td>13.250000</td>\n",
       "      <td>46.91875</td>\n",
       "      <td>65.721500</td>\n",
       "      <td>79.626250</td>\n",
       "      <td>361.150</td>\n",
       "    </tr>\n",
       "    <tr>\n",
       "      <th>ILD_log10</th>\n",
       "      <td>3232.0</td>\n",
       "      <td>0.642719</td>\n",
       "      <td>0.241845</td>\n",
       "      <td>-0.025949</td>\n",
       "      <td>0.49275</td>\n",
       "      <td>0.624437</td>\n",
       "      <td>0.812735</td>\n",
       "      <td>1.480</td>\n",
       "    </tr>\n",
       "    <tr>\n",
       "      <th>DeltaPHI</th>\n",
       "      <td>3232.0</td>\n",
       "      <td>3.559642</td>\n",
       "      <td>5.228948</td>\n",
       "      <td>-21.832000</td>\n",
       "      <td>1.16375</td>\n",
       "      <td>3.500000</td>\n",
       "      <td>6.432500</td>\n",
       "      <td>18.600</td>\n",
       "    </tr>\n",
       "    <tr>\n",
       "      <th>PHIND</th>\n",
       "      <td>3232.0</td>\n",
       "      <td>13.483213</td>\n",
       "      <td>7.698980</td>\n",
       "      <td>0.550000</td>\n",
       "      <td>8.34675</td>\n",
       "      <td>12.150000</td>\n",
       "      <td>16.453750</td>\n",
       "      <td>84.400</td>\n",
       "    </tr>\n",
       "    <tr>\n",
       "      <th>PE</th>\n",
       "      <td>3232.0</td>\n",
       "      <td>3.725014</td>\n",
       "      <td>0.896152</td>\n",
       "      <td>0.200000</td>\n",
       "      <td>3.10000</td>\n",
       "      <td>3.551500</td>\n",
       "      <td>4.300000</td>\n",
       "      <td>8.094</td>\n",
       "    </tr>\n",
       "    <tr>\n",
       "      <th>NM_M</th>\n",
       "      <td>3232.0</td>\n",
       "      <td>1.498453</td>\n",
       "      <td>0.500075</td>\n",
       "      <td>1.000000</td>\n",
       "      <td>1.00000</td>\n",
       "      <td>1.000000</td>\n",
       "      <td>2.000000</td>\n",
       "      <td>2.000</td>\n",
       "    </tr>\n",
       "    <tr>\n",
       "      <th>RELPOS</th>\n",
       "      <td>3232.0</td>\n",
       "      <td>0.520287</td>\n",
       "      <td>0.286792</td>\n",
       "      <td>0.010000</td>\n",
       "      <td>0.27300</td>\n",
       "      <td>0.526000</td>\n",
       "      <td>0.767250</td>\n",
       "      <td>1.000</td>\n",
       "    </tr>\n",
       "  </tbody>\n",
       "</table>\n",
       "</div>"
      ],
      "text/plain": [
       "            count         mean         std          min         25%  \\\n",
       "Facies     3232.0     4.422030    2.504243     1.000000     2.00000   \n",
       "Depth      3232.0  2875.824567  131.006274  2573.500000  2791.00000   \n",
       "GR         3232.0    66.135769   30.854826    13.250000    46.91875   \n",
       "ILD_log10  3232.0     0.642719    0.241845    -0.025949     0.49275   \n",
       "DeltaPHI   3232.0     3.559642    5.228948   -21.832000     1.16375   \n",
       "PHIND      3232.0    13.483213    7.698980     0.550000     8.34675   \n",
       "PE         3232.0     3.725014    0.896152     0.200000     3.10000   \n",
       "NM_M       3232.0     1.498453    0.500075     1.000000     1.00000   \n",
       "RELPOS     3232.0     0.520287    0.286792     0.010000     0.27300   \n",
       "\n",
       "                   50%          75%       max  \n",
       "Facies        4.000000     6.000000     9.000  \n",
       "Depth      2893.500000  2980.000000  3122.500  \n",
       "GR           65.721500    79.626250   361.150  \n",
       "ILD_log10     0.624437     0.812735     1.480  \n",
       "DeltaPHI      3.500000     6.432500    18.600  \n",
       "PHIND        12.150000    16.453750    84.400  \n",
       "PE            3.551500     4.300000     8.094  \n",
       "NM_M          1.000000     2.000000     2.000  \n",
       "RELPOS        0.526000     0.767250     1.000  "
      ]
     },
     "execution_count": 309,
     "metadata": {},
     "output_type": "execute_result"
    }
   ],
   "source": [
    "for column in df.columns:\n",
    "    print(column+\" :\", len(df[column].dropna()))\n",
    "df.describe().transpose()"
   ]
  },
  {
   "cell_type": "markdown",
   "metadata": {},
   "source": [
    "There are no missing values in this dataset, therefore no imputing will be necessary"
   ]
  },
  {
   "cell_type": "markdown",
   "metadata": {},
   "source": [
    "Here I add a new column FaciesName, which has the abbreviated label name corresponding to the Facies value  \n",
    "This will help make some of the future vizualizations clearer"
   ]
  },
  {
   "cell_type": "code",
   "execution_count": 310,
   "metadata": {},
   "outputs": [
    {
     "data": {
      "text/html": [
       "<div>\n",
       "<style scoped>\n",
       "    .dataframe tbody tr th:only-of-type {\n",
       "        vertical-align: middle;\n",
       "    }\n",
       "\n",
       "    .dataframe tbody tr th {\n",
       "        vertical-align: top;\n",
       "    }\n",
       "\n",
       "    .dataframe thead th {\n",
       "        text-align: right;\n",
       "    }\n",
       "</style>\n",
       "<table border=\"1\" class=\"dataframe\">\n",
       "  <thead>\n",
       "    <tr style=\"text-align: right;\">\n",
       "      <th></th>\n",
       "      <th>Facies</th>\n",
       "      <th>Formation</th>\n",
       "      <th>Well Name</th>\n",
       "      <th>Depth</th>\n",
       "      <th>GR</th>\n",
       "      <th>ILD_log10</th>\n",
       "      <th>DeltaPHI</th>\n",
       "      <th>PHIND</th>\n",
       "      <th>PE</th>\n",
       "      <th>NM_M</th>\n",
       "      <th>RELPOS</th>\n",
       "      <th>FaciesName</th>\n",
       "    </tr>\n",
       "  </thead>\n",
       "  <tbody>\n",
       "    <tr>\n",
       "      <th>0</th>\n",
       "      <td>3</td>\n",
       "      <td>A1 SH</td>\n",
       "      <td>SHRIMPLIN</td>\n",
       "      <td>2793.0</td>\n",
       "      <td>77.45</td>\n",
       "      <td>0.664</td>\n",
       "      <td>9.9</td>\n",
       "      <td>11.915</td>\n",
       "      <td>4.6</td>\n",
       "      <td>1</td>\n",
       "      <td>1.000</td>\n",
       "      <td>FSiS</td>\n",
       "    </tr>\n",
       "    <tr>\n",
       "      <th>1</th>\n",
       "      <td>3</td>\n",
       "      <td>A1 SH</td>\n",
       "      <td>SHRIMPLIN</td>\n",
       "      <td>2793.5</td>\n",
       "      <td>78.26</td>\n",
       "      <td>0.661</td>\n",
       "      <td>14.2</td>\n",
       "      <td>12.565</td>\n",
       "      <td>4.1</td>\n",
       "      <td>1</td>\n",
       "      <td>0.979</td>\n",
       "      <td>FSiS</td>\n",
       "    </tr>\n",
       "    <tr>\n",
       "      <th>2</th>\n",
       "      <td>3</td>\n",
       "      <td>A1 SH</td>\n",
       "      <td>SHRIMPLIN</td>\n",
       "      <td>2794.0</td>\n",
       "      <td>79.05</td>\n",
       "      <td>0.658</td>\n",
       "      <td>14.8</td>\n",
       "      <td>13.050</td>\n",
       "      <td>3.6</td>\n",
       "      <td>1</td>\n",
       "      <td>0.957</td>\n",
       "      <td>FSiS</td>\n",
       "    </tr>\n",
       "    <tr>\n",
       "      <th>3</th>\n",
       "      <td>3</td>\n",
       "      <td>A1 SH</td>\n",
       "      <td>SHRIMPLIN</td>\n",
       "      <td>2794.5</td>\n",
       "      <td>86.10</td>\n",
       "      <td>0.655</td>\n",
       "      <td>13.9</td>\n",
       "      <td>13.115</td>\n",
       "      <td>3.5</td>\n",
       "      <td>1</td>\n",
       "      <td>0.936</td>\n",
       "      <td>FSiS</td>\n",
       "    </tr>\n",
       "    <tr>\n",
       "      <th>4</th>\n",
       "      <td>3</td>\n",
       "      <td>A1 SH</td>\n",
       "      <td>SHRIMPLIN</td>\n",
       "      <td>2795.0</td>\n",
       "      <td>74.58</td>\n",
       "      <td>0.647</td>\n",
       "      <td>13.5</td>\n",
       "      <td>13.300</td>\n",
       "      <td>3.4</td>\n",
       "      <td>1</td>\n",
       "      <td>0.915</td>\n",
       "      <td>FSiS</td>\n",
       "    </tr>\n",
       "  </tbody>\n",
       "</table>\n",
       "</div>"
      ],
      "text/plain": [
       "   Facies Formation  Well Name   Depth     GR  ILD_log10  DeltaPHI   PHIND  \\\n",
       "0       3     A1 SH  SHRIMPLIN  2793.0  77.45      0.664       9.9  11.915   \n",
       "1       3     A1 SH  SHRIMPLIN  2793.5  78.26      0.661      14.2  12.565   \n",
       "2       3     A1 SH  SHRIMPLIN  2794.0  79.05      0.658      14.8  13.050   \n",
       "3       3     A1 SH  SHRIMPLIN  2794.5  86.10      0.655      13.9  13.115   \n",
       "4       3     A1 SH  SHRIMPLIN  2795.0  74.58      0.647      13.5  13.300   \n",
       "\n",
       "    PE  NM_M  RELPOS FaciesName  \n",
       "0  4.6     1   1.000       FSiS  \n",
       "1  4.1     1   0.979       FSiS  \n",
       "2  3.6     1   0.957       FSiS  \n",
       "3  3.5     1   0.936       FSiS  \n",
       "4  3.4     1   0.915       FSiS  "
      ]
     },
     "execution_count": 310,
     "metadata": {},
     "output_type": "execute_result"
    }
   ],
   "source": [
    "facies = {\n",
    "        \"SS\": 1,\n",
    "        \"CSiS\": 2,\n",
    "        \"FSiS\": 3,\n",
    "        \"SiSH\": 4,\n",
    "        \"MS\": 5,\n",
    "        \"WS\": 6,\n",
    "        \"D\": 7,\n",
    "        \"PS\": 8,\n",
    "        \"BS\": 9,\n",
    "}\n",
    "inv_facies = {v: k for k, v in facies.items()}\n",
    "df[\"FaciesName\"] = df[\"Facies\"].map(inv_facies)\n",
    "df.head()"
   ]
  },
  {
   "cell_type": "markdown",
   "metadata": {},
   "source": [
    "# Feature Engineering  \n",
    "From my knowledge of my Formation Evaluation class, three features I wanted to engineer were:\n",
    "- the difference between the Density and Neutron porosity logs\n",
    "    - For example, this is a very easy way to detect shale, as this difference is usually negative when shale is present\n",
    "- the relative position of the datapoints\n",
    "    - cycles often appear in rock deposition patterns, you can often notice these cycles and make good inferences based on their appearance\n",
    "- the relative gamma ray of the datapoints\n",
    "    - sometimes, there is a significant amount of clay everywhere, so the relative gamma ray becomes more telling than its raw value  \n",
    "\n",
    "The first two were already implemented in the dataset (as \"DeltaPHI\" and \"RELPOS\"), so I just have to make a new column RELGR for the relative gamma ray"
   ]
  },
  {
   "cell_type": "code",
   "execution_count": 311,
   "metadata": {},
   "outputs": [],
   "source": [
    "df[\"RELGR\"] = df.groupby(\"Well Name\")[\"GR\"].transform(lambda x: x/x.max())"
   ]
  },
  {
   "cell_type": "markdown",
   "metadata": {},
   "source": [
    "Something else to note is that this dataset has 9 different facies, with only 3232 entries."
   ]
  },
  {
   "cell_type": "code",
   "execution_count": 312,
   "metadata": {},
   "outputs": [
    {
     "name": "stdout",
     "output_type": "stream",
     "text": [
      "FSiS : 615\n",
      "CSiS : 738\n",
      "PS : 498\n",
      "WS : 462\n",
      "D : 98\n",
      "SiSH : 184\n",
      "MS : 217\n",
      "BS : 161\n",
      "SS : 259\n"
     ]
    }
   ],
   "source": [
    "for i in df[\"FaciesName\"].unique():\n",
    "    print(i+\" :\",len(df[df[\"FaciesName\"]==i]))"
   ]
  },
  {
   "cell_type": "markdown",
   "metadata": {},
   "source": [
    "Since many of these facies describe the same type of rock (4 facies describe limestones and 2 describe nonmarine siltstones), I want to see if any of these labels could be combined together.\n",
    "Combining them together should improve the accuracy of the models, as if for example, all 4 limestones could be combined into one, the models wouldn't make mistakes between Wackestones and Mudstones as it would simply label both as limestone.\n",
    "  \n",
    "This cross plot shows the 5 geological properties from the well logs (gamma ray, resistivity, average neutron/density porosity, porosity difference, and photoelectric factor) and using the drop downs I can compared different facies to each other."
   ]
  },
  {
   "cell_type": "code",
   "execution_count": null,
   "metadata": {},
   "outputs": [
    {
     "data": {
      "application/vnd.jupyter.widget-view+json": {
       "model_id": "5dd7ef224a484049bd094c3d145c4938",
       "version_major": 2,
       "version_minor": 0
      },
      "text/plain": [
       "interactive(children=(Dropdown(description='Facies 1:', index=8, options=('FSiS', 'CSiS', 'PS', 'WS', 'D', 'Si…"
      ]
     },
     "metadata": {},
     "output_type": "display_data"
    },
    {
     "data": {
      "text/plain": [
       "<function __main__.plot(fac1, fac2)>"
      ]
     },
     "execution_count": 313,
     "metadata": {},
     "output_type": "execute_result"
    }
   ],
   "source": [
    "def plot(fac1,fac2):\n",
    "    g = sns.pairplot(df[df[\"FaciesName\"].isin([fac1,fac2])],vars = [\"GR\",\"ILD_log10\",\"DeltaPHI\",\"PHIND\",\"PE\"],hue=\"FaciesName\")\n",
    "    g.map_lower(sns.kdeplot, levels=1, color=\".2\")\n",
    "\n",
    "widgets.interact(plot, \n",
    "                 fac1 = widgets.Dropdown(options=df[\"FaciesName\"].unique(),value=\"SS\",description=\"Facies 1:\"),\n",
    "                 fac2 = widgets.Dropdown(options=df[\"FaciesName\"].unique(),description=\"Facies 2:\")\n",
    "                 )"
   ]
  },
  {
   "cell_type": "markdown",
   "metadata": {},
   "source": [
    "Using that, I see a couple of facies that show minimal differences in their distributions:\n",
    "- CSiS and FSiS\n",
    "- MS and WS and PS  \n",
    "Therefore I will combine the first two into SiS and the second three into GLS"
   ]
  },
  {
   "cell_type": "code",
   "execution_count": 262,
   "metadata": {},
   "outputs": [
    {
     "name": "stdout",
     "output_type": "stream",
     "text": [
      "[1 3 4 2 5 0]\n",
      "['SiS' 'GLS' 'D' 'SiSH' 'BS' 'SS']\n"
     ]
    }
   ],
   "source": [
    "df[\"Facies\"] = np.where(df[\"Facies\"]==3,2,df[\"Facies\"])\n",
    "df[\"FaciesName\"] = np.where(df[\"FaciesName\"]==\"CSiS\",\"SiS\",df[\"FaciesName\"])\n",
    "df[\"FaciesName\"] = np.where(df[\"FaciesName\"]==\"FSiS\",\"SiS\",df[\"FaciesName\"])\n",
    "\n",
    "df[\"Facies\"] = np.where(df[\"Facies\"]==6,5,df[\"Facies\"])\n",
    "df[\"Facies\"] = np.where(df[\"Facies\"]==8,5,df[\"Facies\"])\n",
    "df[\"FaciesName\"] = np.where(df[\"FaciesName\"]==\"MS\",\"GLS\",df[\"FaciesName\"])\n",
    "df[\"FaciesName\"] = np.where(df[\"FaciesName\"]==\"WS\",\"GLS\",df[\"FaciesName\"])\n",
    "df[\"FaciesName\"] = np.where(df[\"FaciesName\"]==\"PS\",\"GLS\",df[\"FaciesName\"])\n",
    "\n",
    "#mapping the Facies values from 1 - 9 to 0-5 to make future visulizations easier\n",
    "map = {1:0,2:1,4:2,5:3,7:4,9:5}\n",
    "df[\"Facies\"] = df[\"Facies\"].replace(map)\n",
    "\n",
    "print(df[\"Facies\"].unique())\n",
    "print(df[\"FaciesName\"].unique())\n"
   ]
  },
  {
   "cell_type": "markdown",
   "metadata": {},
   "source": [
    "# Data Preprocessing  \n",
    "Before making the models, I will make x and y datasets of the relevant values, and standardize all the values"
   ]
  },
  {
   "cell_type": "code",
   "execution_count": 263,
   "metadata": {},
   "outputs": [],
   "source": [
    "labels = df[\"Facies\"].values\n",
    "features = df.drop([\"Facies\",\"FaciesName\",\"Well Name\", \"Formation\", \"Depth\"], axis = 1)\n",
    "features = ((features-features.mean())/features.std()).values"
   ]
  },
  {
   "cell_type": "markdown",
   "metadata": {},
   "source": [
    "Then, make a test and train split of 20/80"
   ]
  },
  {
   "cell_type": "code",
   "execution_count": 264,
   "metadata": {},
   "outputs": [],
   "source": [
    "xtrain, xtest, ytrain, ytest = train_test_split(features, labels, test_size=.2, random_state=252)"
   ]
  },
  {
   "cell_type": "markdown",
   "metadata": {},
   "source": [
    "# Training the Models  \n",
    "for each model, i will use a grid search over 5-fold cross validations to hopefully get the best hyperparameters for each model"
   ]
  },
  {
   "cell_type": "markdown",
   "metadata": {},
   "source": [
    "# Decision Tree Model"
   ]
  },
  {
   "cell_type": "code",
   "execution_count": 266,
   "metadata": {},
   "outputs": [
    {
     "data": {
      "text/plain": [
       "{'criterion': 'log_loss',\n",
       " 'max_features': None,\n",
       " 'min_samples_split': 2,\n",
       " 'splitter': 'best'}"
      ]
     },
     "execution_count": 266,
     "metadata": {},
     "output_type": "execute_result"
    }
   ],
   "source": [
    "params = {\n",
    "    \"criterion\":[\"gini\", \"entropy\", \"log_loss\"],\n",
    "    \"splitter\":[\"best\",\"random\"],\n",
    "    \"min_samples_split\":[i for i in range(2,5)],\n",
    "    \"max_features\":[None,\"log2\",\"sqrt\"]\n",
    "}\n",
    "gcv = GridSearchCV(DecisionTreeClassifier(),param_grid=params,cv=5,n_jobs=-1).fit(xtrain,ytrain)\n",
    "gcv.best_params_"
   ]
  },
  {
   "cell_type": "code",
   "execution_count": 267,
   "metadata": {},
   "outputs": [
    {
     "name": "stdout",
     "output_type": "stream",
     "text": [
      "              precision    recall  f1-score   support\n",
      "\n",
      "          SS       0.74      0.76      0.75        46\n",
      "         SiS       0.94      0.91      0.92       287\n",
      "        SiSH       0.53      0.38      0.44        42\n",
      "         GLS       0.83      0.91      0.87       229\n",
      "           D       0.80      0.57      0.67        14\n",
      "          BS       0.81      0.90      0.85        29\n",
      "\n",
      "    accuracy                           0.85       647\n",
      "   macro avg       0.78      0.74      0.75       647\n",
      "weighted avg       0.85      0.85      0.85       647\n",
      "\n"
     ]
    }
   ],
   "source": [
    "model = DecisionTreeClassifier(**gcv.best_params_,random_state=252)\n",
    "model.fit(xtrain,ytrain)\n",
    "ypred = model.predict(xtest)\n",
    "print(classification_report(ytest,ypred,  target_names=['SS','SiS' ,'SiSH' ,'GLS', 'D', 'BS']))"
   ]
  },
  {
   "cell_type": "markdown",
   "metadata": {},
   "source": [
    "# Random Forest Model"
   ]
  },
  {
   "cell_type": "code",
   "execution_count": 268,
   "metadata": {},
   "outputs": [
    {
     "data": {
      "text/plain": [
       "{'criterion': 'log_loss',\n",
       " 'max_features': None,\n",
       " 'min_samples_split': 3,\n",
       " 'n_estimators': 100}"
      ]
     },
     "execution_count": 268,
     "metadata": {},
     "output_type": "execute_result"
    }
   ],
   "source": [
    "params2 = {\n",
    "    \"n_estimators\":[100*i for i in range(1,4)],\n",
    "    \"criterion\": [\"gini\", \"entropy\", \"log_loss\"],\n",
    "    \"min_samples_split\":[i for i in range(2,4)],\n",
    "    \"max_features\":[None,\"log2\",\"sqrt\"]\n",
    "}\n",
    "gcv2 = GridSearchCV(RandomForestClassifier(),param_grid=params2,cv=5,n_jobs=-1).fit(xtrain,ytrain)\n",
    "gcv2.best_params_"
   ]
  },
  {
   "cell_type": "code",
   "execution_count": 283,
   "metadata": {},
   "outputs": [
    {
     "name": "stdout",
     "output_type": "stream",
     "text": [
      "              precision    recall  f1-score   support\n",
      "\n",
      "          SS       0.92      0.74      0.82        46\n",
      "         SiS       0.93      0.98      0.95       287\n",
      "        SiSH       0.83      0.36      0.50        42\n",
      "         GLS       0.85      0.95      0.90       229\n",
      "           D       0.89      0.57      0.70        14\n",
      "          BS       0.96      0.86      0.91        29\n",
      "\n",
      "    accuracy                           0.90       647\n",
      "   macro avg       0.90      0.74      0.80       647\n",
      "weighted avg       0.90      0.90      0.89       647\n",
      "\n"
     ]
    }
   ],
   "source": [
    "model2 = RandomForestClassifier(**gcv2.best_params_,random_state=564)\n",
    "model2.fit(xtrain,ytrain)\n",
    "ypred2 = model2.predict(xtest)\n",
    "print(classification_report(ytest,ypred2,  target_names=['SS','SiS' ,'SiSH' ,'GLS', 'D', 'BS']))"
   ]
  },
  {
   "cell_type": "markdown",
   "metadata": {},
   "source": [
    "# Results  \n",
    "As expected, random forest performs better than decision tree as a classifier model on every metric.  \n",
    "There could be a plethora of reasons for this, but my best guess for this scenario is that this dataset has so many predictive features that random forest's method of using many trees most likely handles this multidimensional data set better than one singular decision tree"
   ]
  },
  {
   "cell_type": "markdown",
   "metadata": {},
   "source": [
    "# Plotting Results  \n",
    "Let's plot the different models predictions and compare them to the real data for the NOLAN well"
   ]
  },
  {
   "cell_type": "markdown",
   "metadata": {},
   "source": [
    "Here is the plotting function"
   ]
  },
  {
   "cell_type": "code",
   "execution_count": 292,
   "metadata": {},
   "outputs": [],
   "source": [
    "def plotwell(name,depth,facies):\n",
    "    facies_labels = ['SS','SiS' ,'SiSH' ,'GLS', 'D', 'BS']\n",
    "    facies_colors = ['gold', 'orange', 'green', 'grey', 'cyan',\"pink\"]\n",
    "\n",
    "    cmap = ListedColormap(facies_colors)\n",
    "    norm = BoundaryNorm(boundaries=np.arange(len(facies_labels) + 1) - 0.5, ncolors=len(facies_labels))\n",
    "\n",
    "    fig, ax = plt.subplots(figsize=(3, 8))\n",
    "    img = ax.imshow(facies.values.reshape(-1,1), aspect='auto', cmap=cmap, norm=norm, extent=[0, 1, depth.max(), depth.min()])\n",
    "\n",
    "    cbar = fig.colorbar(img, ax=ax, orientation='vertical', fraction=0.1, pad=0.02)\n",
    "    cbar.set_ticks(np.arange(len(facies_labels)))\n",
    "    cbar.set_ticklabels(facies_labels)\n",
    "    ax.set_xticks([])\n",
    "    ax.set_ylabel('Depth (m)')\n",
    "    ax.set_title(name+' Facies')\n",
    "\n",
    "    plt.tight_layout()\n",
    "    plt.show()"
   ]
  },
  {
   "cell_type": "markdown",
   "metadata": {},
   "source": [
    "Plotting the real values"
   ]
  },
  {
   "cell_type": "code",
   "execution_count": 293,
   "metadata": {},
   "outputs": [
    {
     "data": {
      "image/png": "[encoded data removed]",
      "text/plain": [
       "<Figure size 300x800 with 2 Axes>"
      ]
     },
     "metadata": {},
     "output_type": "display_data"
    }
   ],
   "source": [
    "plotwell(\"NOLAN Real\",df[\"Depth\"][df[\"Well Name\"]==\"NOLAN\"],df[\"Facies\"][df[\"Well Name\"]==\"NOLAN\"])"
   ]
  },
  {
   "cell_type": "markdown",
   "metadata": {},
   "source": [
    "Plotting the Decision Tree prediction"
   ]
  },
  {
   "cell_type": "code",
   "execution_count": 304,
   "metadata": {},
   "outputs": [
    {
     "data": {
      "image/png": "[encoded data removed]",
      "text/plain": [
       "<Figure size 300x800 with 2 Axes>"
      ]
     },
     "metadata": {},
     "output_type": "display_data"
    }
   ],
   "source": [
    "dtdf = pd.DataFrame(features).join(pd.DataFrame({\"Facies\":model.predict(features)})).join(df[[\"Well Name\",\"Depth\"]])\n",
    "plotwell(\"NOLAN Decision Tree\",dtdf[\"Depth\"][dtdf[\"Well Name\"]==\"NOLAN\"],dtdf[\"Facies\"][dtdf[\"Well Name\"]==\"NOLAN\"])"
   ]
  },
  {
   "cell_type": "markdown",
   "metadata": {},
   "source": [
    "Plotting the Random Forest prediction"
   ]
  },
  {
   "cell_type": "code",
   "execution_count": 305,
   "metadata": {},
   "outputs": [
    {
     "data": {
      "image/png": "[encoded data removed]",
      "text/plain": [
       "<Figure size 300x800 with 2 Axes>"
      ]
     },
     "metadata": {},
     "output_type": "display_data"
    }
   ],
   "source": [
    "rfdf = pd.DataFrame(features).join(pd.DataFrame({\"Facies\":model2.predict(features)})).join(df[[\"Well Name\",\"Depth\"]])\n",
    "plotwell(\"NOLAN Decision Tree\",rfdf[\"Depth\"][rfdf[\"Well Name\"]==\"NOLAN\"],rfdf[\"Facies\"][rfdf[\"Well Name\"]==\"NOLAN\"])"
   ]
  },
  {
   "cell_type": "markdown",
   "metadata": {},
   "source": [
    "# Conclusion\n",
    "Random forest is basically a better version of the decision tree model, as it simply employs more of them to get a more accurate result, playing to the bias-variance tradeoff  \n",
    "However, the overall improvement wasn't that large, however this could just be a result of the dataset, as it was extremely well made.  \n",
    "In theory, with a more noisy dataset for example, the gap between the two would only get wider (in favor of random forest) as one of the main weaknesses of a lone decision tree is its sensitivity to noise/outliers."
   ]
  },
  {
   "cell_type": "markdown",
   "metadata": {},
   "source": [
    "By Naoufal Ennadi"
   ]
  }
 ],
 "metadata": {
  "kernelspec": {
   "display_name": "Python 3",
   "language": "python",
   "name": "python3"
  },
  "language_info": {
   "codemirror_mode": {
    "name": "ipython",
    "version": 3
   },
   "file_extension": ".py",
   "mimetype": "text/x-python",
   "name": "python",
   "nbconvert_exporter": "python",
   "pygments_lexer": "ipython3",
   "version": "3.13.0"
  }
 },
 "nbformat": 4,
 "nbformat_minor": 2
}
